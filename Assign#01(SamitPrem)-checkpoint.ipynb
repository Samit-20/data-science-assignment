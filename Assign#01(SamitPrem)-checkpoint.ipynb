{
 "cells": [
  {
   "cell_type": "code",
   "execution_count": 3,
   "id": "6f65c7e6",
   "metadata": {},
   "outputs": [
    {
     "name": "stdout",
     "output_type": "stream",
     "text": [
      "Twinkle, twinkle, little star,\n",
      "\t How I wonder what you are!\n",
      "\t \t Up above the world so high,\n",
      "\t \t Like a diamond in the sky.\n",
      "Twinkle, twinkle, little star,\n",
      "\t How I wonder what you are\n"
     ]
    }
   ],
   "source": [
    "print(\"Twinkle, twinkle, little star,\");\n",
    "print(\"\\t How I wonder what you are!\");\n",
    "print(\"\\t \\t Up above the world so high,\");\n",
    "print(\"\\t \\t Like a diamond in the sky.\");\n",
    "print(\"Twinkle, twinkle, little star,\");\n",
    "print(\"\\t How I wonder what you are\");\n"
   ]
  },
  {
   "cell_type": "code",
   "execution_count": 5,
   "id": "ced98d4c",
   "metadata": {},
   "outputs": [
    {
     "name": "stdout",
     "output_type": "stream",
     "text": [
      "3.9.7\n"
     ]
    }
   ],
   "source": [
    "from platform import python_version\n",
    "print(python_version());"
   ]
  },
  {
   "cell_type": "code",
   "execution_count": 6,
   "id": "3077f0e1",
   "metadata": {},
   "outputs": [
    {
     "name": "stdout",
     "output_type": "stream",
     "text": [
      "the current date and time is  2022-01-01 19:29:57.649096\n"
     ]
    }
   ],
   "source": [
    "from datetime import datetime\n",
    "now = datetime.now();\n",
    "print(\"the current date and time is \", now);"
   ]
  },
  {
   "cell_type": "code",
   "execution_count": 22,
   "id": "69f1b291",
   "metadata": {
    "scrolled": true
   },
   "outputs": [
    {
     "name": "stdout",
     "output_type": "stream",
     "text": [
      "the area of circle : 78.53981633974483\n"
     ]
    }
   ],
   "source": [
    "import math\n",
    "radius = 5;\n",
    "print(\"the area of circle :\",math.pi * radius **  2);"
   ]
  },
  {
   "cell_type": "code",
   "execution_count": 23,
   "id": "8e4d1d76",
   "metadata": {},
   "outputs": [
    {
     "name": "stdout",
     "output_type": "stream",
     "text": [
      "timaS merP\n"
     ]
    }
   ],
   "source": [
    "first_name = \"Samit\" [:: -1];\n",
    "last_name = \"Prem\" [:: -1];\n",
    "print(first_name + \" \"+last_name);\n"
   ]
  },
  {
   "cell_type": "code",
   "execution_count": 30,
   "id": "83cf7ceb",
   "metadata": {},
   "outputs": [
    {
     "name": "stdout",
     "output_type": "stream",
     "text": [
      "enter the first number : 5\n",
      "enter the second number :12\n",
      " The sum of two numbers: 17\n"
     ]
    }
   ],
   "source": [
    "num1 = int(input(\"enter the first number : \"));\n",
    "num2 = int(input(\"enter the second number :\"));\n",
    "add = num1 + num2\n",
    "print(\" The sum of two numbers:\",add);"
   ]
  },
  {
   "cell_type": "code",
   "execution_count": null,
   "id": "967890c8",
   "metadata": {},
   "outputs": [],
   "source": []
  }
 ],
 "metadata": {
  "kernelspec": {
   "display_name": "Python 3 (ipykernel)",
   "language": "python",
   "name": "python3"
  },
  "language_info": {
   "codemirror_mode": {
    "name": "ipython",
    "version": 3
   },
   "file_extension": ".py",
   "mimetype": "text/x-python",
   "name": "python",
   "nbconvert_exporter": "python",
   "pygments_lexer": "ipython3",
   "version": "3.9.7"
  }
 },
 "nbformat": 4,
 "nbformat_minor": 5
}
